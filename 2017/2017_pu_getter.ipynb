{
 "cells": [
  {
   "cell_type": "code",
   "execution_count": 15,
   "metadata": {},
   "outputs": [],
   "source": [
    "import ROOT\n",
    "from array import array"
   ]
  },
  {
   "cell_type": "code",
   "execution_count": 16,
   "metadata": {},
   "outputs": [
    {
     "name": "stdout",
     "output_type": "stream",
     "text": [
      "size of bins 99\n",
      "[3.39597497605e-05, 6.63688402133e-06, 1.39533611284e-05, 3.64963078209e-05, 6.00872171664e-05, 9.33932578027e-05, 0.000120591524486, 0.000128694546198, 0.000361697233219, 0.000361796847553, 0.000702474896113, 0.00133766053707, 0.00237817050805, 0.00389825605651, 0.00594546732588, 0.00856825906255, 0.0116627396044, 0.0148793350787, 0.0179897368379, 0.0208723871946, 0.0232564170641, 0.0249826433945, 0.0262245860346, 0.0272704617569, 0.0283301107549, 0.0294006137386, 0.0303026836965, 0.0309692426278, 0.0308818046328, 0.0310566806228, 0.0309692426278, 0.0310566806228, 0.0310566806228, 0.0310566806228, 0.0307696426944, 0.0300103336052, 0.0288355370103, 0.0273233309106, 0.0264343533951, 0.0255453758796, 0.0235877272306, 0.0215627588047, 0.0195825559393, 0.0177296309658, 0.0160560731931, 0.0146022004183, 0.0134080690078, 0.0129586991411, 0.0125093292745, 0.0124360740539, 0.0123547104433, 0.0123953922486, 0.0124360740539, 0.0124360740539, 0.0123547104433, 0.0124360740539, 0.0123387597772, 0.0122414455005, 0.011705203844, 0.0108187105305, 0.00963985508986, 0.00827210065136, 0.00683770076341, 0.00545237697118, 0.00420456901556, 0.00367513566191, 0.00314570230825, 0.0022917978982, 0.00163221454973, 0.00114065309494, 0.000784838366118, 0.000533204105387, 0.000358474034915, 0.000238881117601, 0.0001984254989, 0.000157969880198, 0.00010375646169, 6.77366175538e-05, 4.39850477645e-05, 2.84298066026e-05, 1.83041729561e-05, 1.17473542058e-05, 7.51982735129e-06, 6.16160108867e-06, 4.80337482605e-06, 3.06235473369e-06, 1.94863396999e-06, 1.23726800704e-06, 7.83538083774e-07, 4.94602064224e-07, 3.10989480331e-07, 1.94628487765e-07, 1.57888581037e-07, 1.2114867431e-07, 7.49518929908e-08, 4.6060444984e-08, 2.81008884326e-08, 1.70121486128e-08, 1.02159894812e-08]\n",
      "size 99\n"
     ]
    }
   ],
   "source": [
    "bins = [0, 1, 2, 3, 4, 5, 6, 7, 8, 9, 10, 11, 12, 13, 14, 15, 16, 17, 18, 19, 20, 21, 22, 23, 24, 25, 26, 27, 28, 29, 30, 31, 32, 33, 34, 35, 36, 37, 38, 39, 40, 41, 42, 43, 44, 45, 46, 47, 48, 49, 50, 51, 52, 53, 54, 55, 56, 57, 58, 59, 60, 61, 62, 63, 64, 65, 66, 67, 68, 69, 70, 71, 72, 73, 74, 75, 76, 77, 78, 79, 80, 81, 82, 83, 84, 85, 86, 87, 88, 89, 90, 91, 92, 93, 94, 95, 96, 97, 98]\n",
    "\n",
    "print (\"size of bins\",len(bins))\n",
    "f=open(\"pu_mc.txt\")\n",
    "\n",
    "value = [float(line.strip()) for line in f.readlines()]\n",
    "    \n",
    "print (value)\n",
    "print (\"size\", len(value))"
   ]
  },
  {
   "cell_type": "code",
   "execution_count": 37,
   "metadata": {},
   "outputs": [],
   "source": [
    "pu2017MC = ROOT.TH1F('h_PU_reweight','h_PU_reweight',100,0,100)\n",
    "\n",
    "for i in range(len(value)):\n",
    "    #print (i)\n",
    "    pu2017MC.SetBinContent(i,value[i])\n",
    "pu_file = ROOT.TFile( 'PU_2017_MC.root',\"recreate\" )\n",
    "pu2017MC.Write()\n",
    "pu_file.Close()"
   ]
  },
  {
   "cell_type": "code",
   "execution_count": 38,
   "metadata": {},
   "outputs": [],
   "source": [
    "pu_file_scale = ROOT.TFile( 'PU_2017_MC_scale.root',\"recreate\" )\n",
    "f_mc =  ROOT.TFile.Open('PU_2017_MC.root','READ')\n",
    "hist = f_mc.Get('h_PU_reweight')\n",
    "hist.Scale(1/hist.Integral())\n",
    "\n",
    "pu_file_scale.cd()\n",
    "hist.Write()\n",
    "pu_file_scale.Close()"
   ]
  },
  {
   "cell_type": "code",
   "execution_count": 42,
   "metadata": {},
   "outputs": [],
   "source": [
    "pu_file_scale_data = ROOT.TFile( 'MyDataPileupHistogram_scale.root',\"recreate\" )\n",
    "f_data = ROOT.TFile.Open('MyDataPileupHistogram.root','READ')\n",
    "\n",
    "\n",
    "f_data_up = ROOT.TFile.Open('MyDataPileupHistogram_up.root','READ')\n",
    "f_data_down = ROOT.TFile.Open('MyDataPileupHistogram_down.root','READ')\n",
    "\n",
    "histC = f_data.Get('pileup')\n",
    "histC.Scale(1/histC.Integral())\n",
    "\n",
    "histUp = f_data_up.Get('pileup')\n",
    "histUp.Scale(1/histUp.Integral())\n",
    "histUp.SetName('pileup_Up')\n",
    "histUp.SetTitle('pileup_Up')\n",
    "\n",
    "histDown = f_data_down.Get('pileup')\n",
    "histDown.Scale(1/histDown.Integral())\n",
    "histDown.SetName('pileup_Down')\n",
    "histDown.SetTitle('pileup_Down')\n",
    "\n",
    "pu_file_scale_data.cd()\n",
    "histC.Write()\n",
    "histUp.Write()\n",
    "histDown.Write()\n",
    "\n",
    "pu_file_scale_data.Close()"
   ]
  },
  {
   "cell_type": "code",
   "execution_count": 45,
   "metadata": {},
   "outputs": [],
   "source": [
    "f_open_data_pu_scale   = ROOT.TFile.Open('MyDataPileupHistogram_scale.root','READ')\n",
    "f_open_mc_pu_scale     = ROOT.TFile.Open('PU_2017_MC_scale.root')\n",
    "hist_data_center       = f_open_data_pu_scale.Get('pileup')\n",
    "hist_data_center.SetName('puweight')\n",
    "hist_data_center.SetTitle('puweight')\n",
    "\n",
    "\n",
    "\n",
    "hist_data_up           = f_open_data_pu_scale.Get('pileup_Up')\n",
    "hist_data_up.SetName('puweight_Up')\n",
    "hist_data_up.SetTitle('puweight_Up')\n",
    "\n",
    "hist_data_down         = f_open_data_pu_scale.Get('pileup_Down')\n",
    "hist_data_down.SetName('puweight_Down')\n",
    "hist_data_down.SetTitle('puweight_Down')\n",
    "\n",
    "\n",
    "hist_mc  = f_open_mc_pu_scale.Get('h_PU_reweight')\n",
    "\n",
    "hist_data_center.Divide(hist_mc)\n",
    "hist_data_up.Divide(hist_mc)\n",
    "hist_data_down.Divide(hist_mc)\n",
    "\n",
    "pu_profile_2017 = ROOT.TFile( 'pu_profile_2017.root',\"recreate\" )\n",
    "pu_profile_2017.cd()\n",
    "hist_data_center.Write()\n",
    "hist_data_up.Write()\n",
    "hist_data_down.Write()\n",
    "\n",
    "pu_profile_2017.Close()"
   ]
  },
  {
   "cell_type": "code",
   "execution_count": null,
   "metadata": {},
   "outputs": [],
   "source": []
  }
 ],
 "metadata": {
  "kernelspec": {
   "display_name": "Python 3",
   "language": "python",
   "name": "python3"
  },
  "language_info": {
   "codemirror_mode": {
    "name": "ipython",
    "version": 3
   },
   "file_extension": ".py",
   "mimetype": "text/x-python",
   "name": "python",
   "nbconvert_exporter": "python",
   "pygments_lexer": "ipython3",
   "version": "3.6.5"
  }
 },
 "nbformat": 4,
 "nbformat_minor": 2
}
